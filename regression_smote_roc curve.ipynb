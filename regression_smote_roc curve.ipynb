{
 "cells": [
  {
   "cell_type": "code",
   "execution_count": 1,
   "metadata": {},
   "outputs": [],
   "source": [
    "import pandas as pd\n",
    "import numpy as np\n",
    "from sklearn import preprocessing\n",
    "import matplotlib.pyplot as plt \n",
    "plt.rc(\"font\", size=14)\n",
    "from sklearn.linear_model import LogisticRegression\n",
    "from sklearn.model_selection import train_test_split\n",
    "import seaborn as sns\n",
    "sns.set(style=\"white\")\n",
    "sns.set(style=\"whitegrid\", color_codes=True)"
   ]
  },
  {
   "cell_type": "code",
   "execution_count": 2,
   "metadata": {},
   "outputs": [
    {
     "name": "stdout",
     "output_type": "stream",
     "text": [
      "(2468, 30)\n",
      "['tp_gestante', 'tp_escolaridade', 'tp_classificacao_final', 'notificao_dias', 'idade', 'tp_raca_cor', 'co_bairro_residencia', 'caso_internacao', 'tp_sexo', 'febre', 'mialgia', 'cefaleia', 'exantema', 'vomito', 'nausea', 'dor_costas', 'conjutivite', 'artrite', 'artralgia', 'petequia_n', 'leucopenia', 'laco', 'dor_retro', 'diabetes', 'hematolog', 'hepatopat', 'renal', 'hipertensao', 'acido_pept', 'auto_imune']\n"
     ]
    }
   ],
   "source": [
    "data = pd.read_csv('dengue_2018_2.csv', header=0)\n",
    "classfication_variables = [\"tp_gestante\", \"tp_escolaridade\", \"tp_classificacao_final\", \n",
    "                           \"notificao_dias\", \"idade\", \"tp_raca_cor\", \n",
    "                           \"co_bairro_residencia\", \"caso_internacao\", 'tp_sexo', \"febre\", \"mialgia\", \n",
    "                           \"cefaleia\", \"exantema\", \"vomito\", \"nausea\", \"dor_costas\", \"conjutivite\", \n",
    "                           \"artrite\", \"artralgia\", \"petequia_n\", \"leucopenia\", \"laco\", \n",
    "                           \"dor_retro\", \"diabetes\", \"hematolog\", \"hepatopat\", \"renal\", \"hipertensao\", \"acido_pept\", \n",
    "                           \"auto_imune\"]\n",
    "\n",
    "data = data[classfication_variables]\n",
    "print(data.shape)\n",
    "print(list(data.columns))"
   ]
  },
  {
   "cell_type": "code",
   "execution_count": 3,
   "metadata": {},
   "outputs": [
    {
     "data": {
      "text/plain": [
       "0    2278\n",
       "1     190\n",
       "Name: caso_internacao, dtype: int64"
      ]
     },
     "execution_count": 3,
     "metadata": {},
     "output_type": "execute_result"
    }
   ],
   "source": [
    "data['caso_internacao'].value_counts()"
   ]
  },
  {
   "cell_type": "code",
   "execution_count": 7,
   "metadata": {},
   "outputs": [
    {
     "name": "stdout",
     "output_type": "stream",
     "text": [
      "percentage of bads is 7.698541329011345\n",
      "percentage of subscription 92.30145867098865\n"
     ]
    }
   ],
   "source": [
    "count_goods = len(data[data['caso_internacao']==0])\n",
    "count_bads = len(data[data['caso_internacao']==1])\n",
    "pct_of_bads= count_bads/(count_bads+count_goods)\n",
    "print(\"percentage of bads is\", pct_of_bads*100)\n",
    "pct_of_good = count_goods/(count_bads+count_goods)\n",
    "print(\"percentage of subscription\", pct_of_good*100)"
   ]
  },
  {
   "cell_type": "code",
   "execution_count": 8,
   "metadata": {},
   "outputs": [
    {
     "data": {
      "text/html": [
       "<div>\n",
       "<style scoped>\n",
       "    .dataframe tbody tr th:only-of-type {\n",
       "        vertical-align: middle;\n",
       "    }\n",
       "\n",
       "    .dataframe tbody tr th {\n",
       "        vertical-align: top;\n",
       "    }\n",
       "\n",
       "    .dataframe thead th {\n",
       "        text-align: right;\n",
       "    }\n",
       "</style>\n",
       "<table border=\"1\" class=\"dataframe\">\n",
       "  <thead>\n",
       "    <tr style=\"text-align: right;\">\n",
       "      <th></th>\n",
       "      <th>notificao_dias</th>\n",
       "      <th>idade</th>\n",
       "      <th>caso_internacao</th>\n",
       "      <th>febre</th>\n",
       "      <th>mialgia</th>\n",
       "      <th>cefaleia</th>\n",
       "      <th>exantema</th>\n",
       "      <th>vomito</th>\n",
       "      <th>nausea</th>\n",
       "      <th>dor_costas</th>\n",
       "      <th>...</th>\n",
       "      <th>escolaridade_3</th>\n",
       "      <th>escolaridade_4</th>\n",
       "      <th>escolaridade_5</th>\n",
       "      <th>escolaridade_6</th>\n",
       "      <th>escolaridade_7</th>\n",
       "      <th>escolaridade_8</th>\n",
       "      <th>raca_1</th>\n",
       "      <th>raca_2</th>\n",
       "      <th>raca_4</th>\n",
       "      <th>sexo_F</th>\n",
       "    </tr>\n",
       "  </thead>\n",
       "  <tbody>\n",
       "    <tr>\n",
       "      <th>0</th>\n",
       "      <td>5</td>\n",
       "      <td>37</td>\n",
       "      <td>0</td>\n",
       "      <td>2</td>\n",
       "      <td>1</td>\n",
       "      <td>1</td>\n",
       "      <td>2</td>\n",
       "      <td>2</td>\n",
       "      <td>2</td>\n",
       "      <td>2</td>\n",
       "      <td>...</td>\n",
       "      <td>0</td>\n",
       "      <td>0</td>\n",
       "      <td>0</td>\n",
       "      <td>0</td>\n",
       "      <td>0</td>\n",
       "      <td>0</td>\n",
       "      <td>1</td>\n",
       "      <td>0</td>\n",
       "      <td>0</td>\n",
       "      <td>1</td>\n",
       "    </tr>\n",
       "    <tr>\n",
       "      <th>1</th>\n",
       "      <td>26</td>\n",
       "      <td>1</td>\n",
       "      <td>1</td>\n",
       "      <td>1</td>\n",
       "      <td>2</td>\n",
       "      <td>2</td>\n",
       "      <td>1</td>\n",
       "      <td>2</td>\n",
       "      <td>2</td>\n",
       "      <td>2</td>\n",
       "      <td>...</td>\n",
       "      <td>0</td>\n",
       "      <td>0</td>\n",
       "      <td>0</td>\n",
       "      <td>0</td>\n",
       "      <td>0</td>\n",
       "      <td>0</td>\n",
       "      <td>1</td>\n",
       "      <td>0</td>\n",
       "      <td>0</td>\n",
       "      <td>0</td>\n",
       "    </tr>\n",
       "    <tr>\n",
       "      <th>2</th>\n",
       "      <td>1</td>\n",
       "      <td>14</td>\n",
       "      <td>0</td>\n",
       "      <td>1</td>\n",
       "      <td>1</td>\n",
       "      <td>1</td>\n",
       "      <td>2</td>\n",
       "      <td>2</td>\n",
       "      <td>2</td>\n",
       "      <td>2</td>\n",
       "      <td>...</td>\n",
       "      <td>0</td>\n",
       "      <td>0</td>\n",
       "      <td>0</td>\n",
       "      <td>0</td>\n",
       "      <td>0</td>\n",
       "      <td>0</td>\n",
       "      <td>0</td>\n",
       "      <td>0</td>\n",
       "      <td>1</td>\n",
       "      <td>0</td>\n",
       "    </tr>\n",
       "    <tr>\n",
       "      <th>3</th>\n",
       "      <td>89</td>\n",
       "      <td>41</td>\n",
       "      <td>0</td>\n",
       "      <td>2</td>\n",
       "      <td>2</td>\n",
       "      <td>1</td>\n",
       "      <td>1</td>\n",
       "      <td>2</td>\n",
       "      <td>2</td>\n",
       "      <td>2</td>\n",
       "      <td>...</td>\n",
       "      <td>0</td>\n",
       "      <td>0</td>\n",
       "      <td>0</td>\n",
       "      <td>0</td>\n",
       "      <td>0</td>\n",
       "      <td>0</td>\n",
       "      <td>0</td>\n",
       "      <td>0</td>\n",
       "      <td>0</td>\n",
       "      <td>1</td>\n",
       "    </tr>\n",
       "    <tr>\n",
       "      <th>4</th>\n",
       "      <td>3</td>\n",
       "      <td>12</td>\n",
       "      <td>0</td>\n",
       "      <td>1</td>\n",
       "      <td>2</td>\n",
       "      <td>1</td>\n",
       "      <td>2</td>\n",
       "      <td>1</td>\n",
       "      <td>2</td>\n",
       "      <td>2</td>\n",
       "      <td>...</td>\n",
       "      <td>0</td>\n",
       "      <td>0</td>\n",
       "      <td>0</td>\n",
       "      <td>0</td>\n",
       "      <td>0</td>\n",
       "      <td>0</td>\n",
       "      <td>0</td>\n",
       "      <td>0</td>\n",
       "      <td>1</td>\n",
       "      <td>0</td>\n",
       "    </tr>\n",
       "  </tbody>\n",
       "</table>\n",
       "<p>5 rows × 41 columns</p>\n",
       "</div>"
      ],
      "text/plain": [
       "   notificao_dias  idade  caso_internacao  febre  mialgia  cefaleia  exantema  \\\n",
       "0               5     37                0      2        1         1         2   \n",
       "1              26      1                1      1        2         2         1   \n",
       "2               1     14                0      1        1         1         2   \n",
       "3              89     41                0      2        2         1         1   \n",
       "4               3     12                0      1        2         1         2   \n",
       "\n",
       "   vomito  nausea  dor_costas  ...  escolaridade_3  escolaridade_4  \\\n",
       "0       2       2           2  ...               0               0   \n",
       "1       2       2           2  ...               0               0   \n",
       "2       2       2           2  ...               0               0   \n",
       "3       2       2           2  ...               0               0   \n",
       "4       1       2           2  ...               0               0   \n",
       "\n",
       "   escolaridade_5  escolaridade_6  escolaridade_7  escolaridade_8  raca_1  \\\n",
       "0               0               0               0               0       1   \n",
       "1               0               0               0               0       1   \n",
       "2               0               0               0               0       0   \n",
       "3               0               0               0               0       0   \n",
       "4               0               0               0               0       0   \n",
       "\n",
       "   raca_2  raca_4  sexo_F  \n",
       "0       0       0       1  \n",
       "1       0       0       0  \n",
       "2       0       1       0  \n",
       "3       0       0       1  \n",
       "4       0       1       0  \n",
       "\n",
       "[5 rows x 41 columns]"
      ]
     },
     "execution_count": 8,
     "metadata": {},
     "output_type": "execute_result"
    }
   ],
   "source": [
    "# bairro_cat = pd.get_dummies(data_final[\"co_bairro_residencia\"], prefix='bairro')\n",
    "gestante_cat = pd.get_dummies(data[\"tp_gestante\"], prefix='gestante')\n",
    "escolaridade_cat = pd.get_dummies(data[\"tp_escolaridade\"], prefix='escolaridade')\n",
    "raca_cat = pd.get_dummies(data[\"tp_raca_cor\"], prefix='raca')\n",
    "sexo_cat = pd.get_dummies(data[\"tp_sexo\"], prefix='sexo')\n",
    "\n",
    "# bairro_cat, gestante_cat, , escolaridade_cat, raca_cat,classificacao_cat\n",
    "data_dummies = pd.concat([data, gestante_cat], axis=1)\n",
    "data_dummies = pd.concat([data_dummies, escolaridade_cat], axis=1)\n",
    "data_dummies = pd.concat([data_dummies, raca_cat], axis=1)\n",
    "data_dummies = pd.concat([data_dummies, sexo_cat], axis=1)\n",
    "\n",
    "data_dummies = data_dummies.drop([\"tp_gestante\", \"gestante_9\", \"gestante_6\", \"gestante_5\"], axis=1)\n",
    "data_dummies = data_dummies.drop([\"tp_escolaridade\", \"escolaridade_9\", \"escolaridade_10\"], axis=1)\n",
    "data_dummies = data_dummies.drop([\"tp_raca_cor\", \"raca_9\", \"raca_5\", \"raca_3\"], axis=1)\n",
    "data_dummies = data_dummies.drop([\"tp_sexo\", \"sexo_I\", \"sexo_M\"], axis=1)\n",
    "data_dummies = data_dummies.drop([\"tp_classificacao_final\"], axis=1)\n",
    "data_dummies = data_dummies.drop([\"co_bairro_residencia\"], axis=1)\n",
    "\n",
    "\n",
    "\n",
    "data_dummies.head()\n",
    "# cat_vars=[\"tp_sexo\", \"tp_gestante\", \"tp_escolaridade\", \"tp_classificacao_final\"]\n",
    "# for var in cat_vars:\n",
    "#     cat_list='var'+'_'+var\n",
    "#     cat_list = pd.get_dummies(data[var], prefix=var)\n",
    "#     data1=data.join(cat_list)\n",
    "#     data=data1\n",
    "# cat_vars=[\"tp_sexo\", \"tp_gestante\"]\n",
    "# data_vars=data.columns.values.tolist()\n",
    "# to_keep=[i for i in data_vars if i not in cat_vars]\n",
    "\n",
    "# data_final=data[to_keep]\n",
    "# data_final.columns.values"
   ]
  },
  {
   "cell_type": "code",
   "execution_count": 9,
   "metadata": {},
   "outputs": [],
   "source": [
    "X = data_dummies.loc[:, data_dummies.columns != 'caso_internacao']\n",
    "y = data_dummies.loc[:, data_dummies.columns == 'caso_internacao']\n",
    "\n",
    "X_train, X_test, y_train, y_test = train_test_split(X, y, test_size=0.3, random_state=0)"
   ]
  },
  {
   "cell_type": "code",
   "execution_count": 10,
   "metadata": {},
   "outputs": [],
   "source": [
    "# data_train = pd.concat([X_train, y_train], axis=1)\n",
    "# data_train.head()\n",
    "# data_train[\"caso_internacao\"].value_counts()"
   ]
  },
  {
   "cell_type": "code",
   "execution_count": 11,
   "metadata": {
    "scrolled": false
   },
   "outputs": [
    {
     "name": "stdout",
     "output_type": "stream",
     "text": [
      "Warning: Maximum number of iterations has been exceeded.\n",
      "         Current function value: 0.164808\n",
      "         Iterations: 35\n"
     ]
    },
    {
     "name": "stderr",
     "output_type": "stream",
     "text": [
      "C:\\Users\\bruno\\Anaconda3\\lib\\site-packages\\statsmodels\\base\\model.py:508: ConvergenceWarning: Maximum Likelihood optimization failed to converge. Check mle_retvals\n",
      "  \"Check mle_retvals\", ConvergenceWarning)\n"
     ]
    },
    {
     "data": {
      "text/html": [
       "<table class=\"simpletable\">\n",
       "<tr>\n",
       "        <td>Model:</td>              <td>Logit</td>      <td>Pseudo R-squared:</td>    <td>0.376</td>  \n",
       "</tr>\n",
       "<tr>\n",
       "  <td>Dependent Variable:</td>  <td>caso_internacao</td>       <td>AIC:</td>         <td>649.2476</td> \n",
       "</tr>\n",
       "<tr>\n",
       "         <td>Date:</td>        <td>2019-07-02 15:41</td>       <td>BIC:</td>         <td>867.4133</td> \n",
       "</tr>\n",
       "<tr>\n",
       "   <td>No. Observations:</td>        <td>1727</td>        <td>Log-Likelihood:</td>    <td>-284.62</td> \n",
       "</tr>\n",
       "<tr>\n",
       "       <td>Df Model:</td>             <td>39</td>            <td>LL-Null:</td>        <td>-456.20</td> \n",
       "</tr>\n",
       "<tr>\n",
       "     <td>Df Residuals:</td>          <td>1687</td>         <td>LLR p-value:</td>    <td>2.6748e-50</td>\n",
       "</tr>\n",
       "<tr>\n",
       "      <td>Converged:</td>           <td>0.0000</td>           <td>Scale:</td>         <td>1.0000</td>  \n",
       "</tr>\n",
       "<tr>\n",
       "    <td>No. Iterations:</td>        <td>35.0000</td>             <td></td>               <td></td>     \n",
       "</tr>\n",
       "</table>\n",
       "<table class=\"simpletable\">\n",
       "<tr>\n",
       "         <td></td>          <th>Coef.</th>  <th>Std.Err.</th>     <th>z</th>     <th>P>|z|</th>   <th>[0.025</th>      <th>0.975]</th>  \n",
       "</tr>\n",
       "<tr>\n",
       "  <th>notificao_dias</th>  <td>0.0115</td>   <td>0.0089</td>   <td>1.2832</td>  <td>0.1994</td>   <td>-0.0060</td>     <td>0.0290</td>  \n",
       "</tr>\n",
       "<tr>\n",
       "  <th>idade</th>           <td>-0.0358</td>  <td>0.0107</td>   <td>-3.3332</td> <td>0.0009</td>   <td>-0.0568</td>     <td>-0.0147</td> \n",
       "</tr>\n",
       "<tr>\n",
       "  <th>febre</th>           <td>-0.5645</td>  <td>0.5668</td>   <td>-0.9959</td> <td>0.3193</td>   <td>-1.6754</td>     <td>0.5465</td>  \n",
       "</tr>\n",
       "<tr>\n",
       "  <th>mialgia</th>         <td>-0.5861</td>  <td>0.2687</td>   <td>-2.1810</td> <td>0.0292</td>   <td>-1.1128</td>     <td>-0.0594</td> \n",
       "</tr>\n",
       "<tr>\n",
       "  <th>cefaleia</th>        <td>0.4901</td>   <td>0.2534</td>   <td>1.9344</td>  <td>0.0531</td>   <td>-0.0065</td>     <td>0.9867</td>  \n",
       "</tr>\n",
       "<tr>\n",
       "  <th>exantema</th>        <td>0.1158</td>   <td>0.2692</td>   <td>0.4303</td>  <td>0.6670</td>   <td>-0.4118</td>     <td>0.6434</td>  \n",
       "</tr>\n",
       "<tr>\n",
       "  <th>vomito</th>          <td>-0.8509</td>  <td>0.2575</td>   <td>-3.3047</td> <td>0.0010</td>   <td>-1.3555</td>     <td>-0.3462</td> \n",
       "</tr>\n",
       "<tr>\n",
       "  <th>nausea</th>          <td>-1.0437</td>  <td>0.2744</td>   <td>-3.8037</td> <td>0.0001</td>   <td>-1.5815</td>     <td>-0.5059</td> \n",
       "</tr>\n",
       "<tr>\n",
       "  <th>dor_costas</th>      <td>0.8122</td>   <td>0.4772</td>   <td>1.7020</td>  <td>0.0888</td>   <td>-0.1231</td>     <td>1.7475</td>  \n",
       "</tr>\n",
       "<tr>\n",
       "  <th>conjutivite</th>     <td>0.0521</td>   <td>0.7520</td>   <td>0.0693</td>  <td>0.9447</td>   <td>-1.4219</td>     <td>1.5261</td>  \n",
       "</tr>\n",
       "<tr>\n",
       "  <th>artrite</th>         <td>0.1345</td>   <td>0.5186</td>   <td>0.2594</td>  <td>0.7953</td>   <td>-0.8819</td>     <td>1.1510</td>  \n",
       "</tr>\n",
       "<tr>\n",
       "  <th>artralgia</th>       <td>-0.4202</td>  <td>0.3391</td>   <td>-1.2394</td> <td>0.2152</td>   <td>-1.0848</td>     <td>0.2443</td>  \n",
       "</tr>\n",
       "<tr>\n",
       "  <th>petequia_n</th>      <td>-2.1631</td>  <td>0.3688</td>   <td>-5.8646</td> <td>0.0000</td>   <td>-2.8859</td>     <td>-1.4402</td> \n",
       "</tr>\n",
       "<tr>\n",
       "  <th>leucopenia</th>      <td>-1.9242</td>  <td>0.2779</td>   <td>-6.9252</td> <td>0.0000</td>   <td>-2.4688</td>     <td>-1.3796</td> \n",
       "</tr>\n",
       "<tr>\n",
       "  <th>laco</th>            <td>1.6335</td>   <td>1.2028</td>   <td>1.3580</td>  <td>0.1745</td>   <td>-0.7240</td>     <td>3.9910</td>  \n",
       "</tr>\n",
       "<tr>\n",
       "  <th>dor_retro</th>       <td>-0.3466</td>  <td>0.3527</td>   <td>-0.9827</td> <td>0.3258</td>   <td>-1.0379</td>     <td>0.3447</td>  \n",
       "</tr>\n",
       "<tr>\n",
       "  <th>diabetes</th>        <td>0.2389</td>   <td>0.8998</td>   <td>0.2656</td>  <td>0.7906</td>   <td>-1.5246</td>     <td>2.0024</td>  \n",
       "</tr>\n",
       "<tr>\n",
       "  <th>hematolog</th>       <td>-3.7221</td>  <td>1.4275</td>   <td>-2.6074</td> <td>0.0091</td>   <td>-6.5199</td>     <td>-0.9242</td> \n",
       "</tr>\n",
       "<tr>\n",
       "  <th>hepatopat</th>       <td>-2.4138</td>  <td>1.3127</td>   <td>-1.8388</td> <td>0.0659</td>   <td>-4.9867</td>     <td>0.1591</td>  \n",
       "</tr>\n",
       "<tr>\n",
       "  <th>renal</th>           <td>-1.8176</td>  <td>2.0165</td>   <td>-0.9013</td> <td>0.3674</td>   <td>-5.7699</td>     <td>2.1347</td>  \n",
       "</tr>\n",
       "<tr>\n",
       "  <th>hipertensao</th>     <td>-1.2321</td>  <td>0.7583</td>   <td>-1.6249</td> <td>0.1042</td>   <td>-2.7183</td>     <td>0.2540</td>  \n",
       "</tr>\n",
       "<tr>\n",
       "  <th>acido_pept</th>      <td>0.1966</td>   <td>2.0547</td>   <td>0.0957</td>  <td>0.9238</td>   <td>-3.8306</td>     <td>4.2238</td>  \n",
       "</tr>\n",
       "<tr>\n",
       "  <th>auto_imune</th>      <td>10.9960</td>  <td>3.2234</td>   <td>3.4114</td>  <td>0.0006</td>   <td>4.6784</td>      <td>17.3137</td> \n",
       "</tr>\n",
       "<tr>\n",
       "  <th>gestante_1</th>      <td>-0.9122</td>  <td>1.4334</td>   <td>-0.6364</td> <td>0.5245</td>   <td>-3.7216</td>     <td>1.8972</td>  \n",
       "</tr>\n",
       "<tr>\n",
       "  <th>gestante_2</th>     <td>-14.3451</td> <td>1290.3533</td> <td>-0.0111</td> <td>0.9911</td> <td>-2543.3911</td>   <td>2514.7009</td>\n",
       "</tr>\n",
       "<tr>\n",
       "  <th>gestante_3</th>      <td>0.5584</td>   <td>1.2675</td>   <td>0.4405</td>  <td>0.6595</td>   <td>-1.9258</td>     <td>3.0426</td>  \n",
       "</tr>\n",
       "<tr>\n",
       "  <th>gestante_4</th>     <td>-13.6587</td> <td>7446.3465</td> <td>-0.0018</td> <td>0.9985</td> <td>-14608.2297</td> <td>14580.9123</td>\n",
       "</tr>\n",
       "<tr>\n",
       "  <th>escolaridade_0</th>  <td>0.2831</td>   <td>2.0643</td>   <td>0.1372</td>  <td>0.8909</td>   <td>-3.7629</td>     <td>4.3292</td>  \n",
       "</tr>\n",
       "<tr>\n",
       "  <th>escolaridade_1</th>  <td>0.1859</td>   <td>0.7735</td>   <td>0.2403</td>  <td>0.8101</td>   <td>-1.3303</td>     <td>1.7020</td>  \n",
       "</tr>\n",
       "<tr>\n",
       "  <th>escolaridade_2</th>  <td>1.4708</td>   <td>1.1085</td>   <td>1.3268</td>  <td>0.1846</td>   <td>-0.7019</td>     <td>3.6435</td>  \n",
       "</tr>\n",
       "<tr>\n",
       "  <th>escolaridade_3</th>  <td>2.5145</td>   <td>0.6295</td>   <td>3.9943</td>  <td>0.0001</td>   <td>1.2807</td>      <td>3.7483</td>  \n",
       "</tr>\n",
       "<tr>\n",
       "  <th>escolaridade_4</th>  <td>1.4906</td>   <td>1.2347</td>   <td>1.2073</td>  <td>0.2273</td>   <td>-0.9293</td>     <td>3.9105</td>  \n",
       "</tr>\n",
       "<tr>\n",
       "  <th>escolaridade_5</th>  <td>1.0322</td>   <td>0.8639</td>   <td>1.1947</td>  <td>0.2322</td>   <td>-0.6611</td>     <td>2.7255</td>  \n",
       "</tr>\n",
       "<tr>\n",
       "  <th>escolaridade_6</th>  <td>0.4675</td>   <td>0.6414</td>   <td>0.7289</td>  <td>0.4661</td>   <td>-0.7896</td>     <td>1.7247</td>  \n",
       "</tr>\n",
       "<tr>\n",
       "  <th>escolaridade_7</th>  <td>1.4801</td>   <td>0.8852</td>   <td>1.6720</td>  <td>0.0945</td>   <td>-0.2549</td>     <td>3.2150</td>  \n",
       "</tr>\n",
       "<tr>\n",
       "  <th>escolaridade_8</th>  <td>0.2288</td>   <td>0.7453</td>   <td>0.3070</td>  <td>0.7589</td>   <td>-1.2320</td>     <td>1.6896</td>  \n",
       "</tr>\n",
       "<tr>\n",
       "  <th>raca_1</th>          <td>1.2726</td>   <td>0.4258</td>   <td>2.9888</td>  <td>0.0028</td>   <td>0.4381</td>      <td>2.1072</td>  \n",
       "</tr>\n",
       "<tr>\n",
       "  <th>raca_2</th>          <td>2.6680</td>   <td>0.8496</td>   <td>3.1402</td>  <td>0.0017</td>   <td>1.0027</td>      <td>4.3332</td>  \n",
       "</tr>\n",
       "<tr>\n",
       "  <th>raca_4</th>          <td>1.9546</td>   <td>0.2738</td>   <td>7.1396</td>  <td>0.0000</td>   <td>1.4180</td>      <td>2.4911</td>  \n",
       "</tr>\n",
       "<tr>\n",
       "  <th>sexo_F</th>          <td>-0.1898</td>  <td>0.2432</td>   <td>-0.7807</td> <td>0.4350</td>   <td>-0.6664</td>     <td>0.2868</td>  \n",
       "</tr>\n",
       "</table>"
      ],
      "text/plain": [
       "<class 'statsmodels.iolib.summary2.Summary'>\n",
       "\"\"\"\n",
       "                            Results: Logit\n",
       "=======================================================================\n",
       "Model:                Logit              Pseudo R-squared:   0.376     \n",
       "Dependent Variable:   caso_internacao    AIC:                649.2476  \n",
       "Date:                 2019-07-02 15:41   BIC:                867.4133  \n",
       "No. Observations:     1727               Log-Likelihood:     -284.62   \n",
       "Df Model:             39                 LL-Null:            -456.20   \n",
       "Df Residuals:         1687               LLR p-value:        2.6748e-50\n",
       "Converged:            0.0000             Scale:              1.0000    \n",
       "No. Iterations:       35.0000                                          \n",
       "-----------------------------------------------------------------------\n",
       "                Coef.    Std.Err.    z    P>|z|     [0.025     0.975]  \n",
       "-----------------------------------------------------------------------\n",
       "notificao_dias   0.0115    0.0089  1.2832 0.1994     -0.0060     0.0290\n",
       "idade           -0.0358    0.0107 -3.3332 0.0009     -0.0568    -0.0147\n",
       "febre           -0.5645    0.5668 -0.9959 0.3193     -1.6754     0.5465\n",
       "mialgia         -0.5861    0.2687 -2.1810 0.0292     -1.1128    -0.0594\n",
       "cefaleia         0.4901    0.2534  1.9344 0.0531     -0.0065     0.9867\n",
       "exantema         0.1158    0.2692  0.4303 0.6670     -0.4118     0.6434\n",
       "vomito          -0.8509    0.2575 -3.3047 0.0010     -1.3555    -0.3462\n",
       "nausea          -1.0437    0.2744 -3.8037 0.0001     -1.5815    -0.5059\n",
       "dor_costas       0.8122    0.4772  1.7020 0.0888     -0.1231     1.7475\n",
       "conjutivite      0.0521    0.7520  0.0693 0.9447     -1.4219     1.5261\n",
       "artrite          0.1345    0.5186  0.2594 0.7953     -0.8819     1.1510\n",
       "artralgia       -0.4202    0.3391 -1.2394 0.2152     -1.0848     0.2443\n",
       "petequia_n      -2.1631    0.3688 -5.8646 0.0000     -2.8859    -1.4402\n",
       "leucopenia      -1.9242    0.2779 -6.9252 0.0000     -2.4688    -1.3796\n",
       "laco             1.6335    1.2028  1.3580 0.1745     -0.7240     3.9910\n",
       "dor_retro       -0.3466    0.3527 -0.9827 0.3258     -1.0379     0.3447\n",
       "diabetes         0.2389    0.8998  0.2656 0.7906     -1.5246     2.0024\n",
       "hematolog       -3.7221    1.4275 -2.6074 0.0091     -6.5199    -0.9242\n",
       "hepatopat       -2.4138    1.3127 -1.8388 0.0659     -4.9867     0.1591\n",
       "renal           -1.8176    2.0165 -0.9013 0.3674     -5.7699     2.1347\n",
       "hipertensao     -1.2321    0.7583 -1.6249 0.1042     -2.7183     0.2540\n",
       "acido_pept       0.1966    2.0547  0.0957 0.9238     -3.8306     4.2238\n",
       "auto_imune      10.9960    3.2234  3.4114 0.0006      4.6784    17.3137\n",
       "gestante_1      -0.9122    1.4334 -0.6364 0.5245     -3.7216     1.8972\n",
       "gestante_2     -14.3451 1290.3533 -0.0111 0.9911  -2543.3911  2514.7009\n",
       "gestante_3       0.5584    1.2675  0.4405 0.6595     -1.9258     3.0426\n",
       "gestante_4     -13.6587 7446.3465 -0.0018 0.9985 -14608.2297 14580.9123\n",
       "escolaridade_0   0.2831    2.0643  0.1372 0.8909     -3.7629     4.3292\n",
       "escolaridade_1   0.1859    0.7735  0.2403 0.8101     -1.3303     1.7020\n",
       "escolaridade_2   1.4708    1.1085  1.3268 0.1846     -0.7019     3.6435\n",
       "escolaridade_3   2.5145    0.6295  3.9943 0.0001      1.2807     3.7483\n",
       "escolaridade_4   1.4906    1.2347  1.2073 0.2273     -0.9293     3.9105\n",
       "escolaridade_5   1.0322    0.8639  1.1947 0.2322     -0.6611     2.7255\n",
       "escolaridade_6   0.4675    0.6414  0.7289 0.4661     -0.7896     1.7247\n",
       "escolaridade_7   1.4801    0.8852  1.6720 0.0945     -0.2549     3.2150\n",
       "escolaridade_8   0.2288    0.7453  0.3070 0.7589     -1.2320     1.6896\n",
       "raca_1           1.2726    0.4258  2.9888 0.0028      0.4381     2.1072\n",
       "raca_2           2.6680    0.8496  3.1402 0.0017      1.0027     4.3332\n",
       "raca_4           1.9546    0.2738  7.1396 0.0000      1.4180     2.4911\n",
       "sexo_F          -0.1898    0.2432 -0.7807 0.4350     -0.6664     0.2868\n",
       "=======================================================================\n",
       "\n",
       "\"\"\""
      ]
     },
     "execution_count": 11,
     "metadata": {},
     "output_type": "execute_result"
    }
   ],
   "source": [
    "import statsmodels.api as sm\n",
    "logit_model=sm.Logit(y_train['caso_internacao'],X_train)\n",
    "result=logit_model.fit()\n",
    "result.summary2()"
   ]
  },
  {
   "cell_type": "code",
   "execution_count": 132,
   "metadata": {},
   "outputs": [
    {
     "name": "stderr",
     "output_type": "stream",
     "text": [
      "C:\\Users\\bruno\\Anaconda3\\lib\\site-packages\\sklearn\\linear_model\\logistic.py:433: FutureWarning: Default solver will be changed to 'lbfgs' in 0.22. Specify a solver to silence this warning.\n",
      "  FutureWarning)\n"
     ]
    },
    {
     "data": {
      "text/plain": [
       "LogisticRegression(C=1.0, class_weight=None, dual=False, fit_intercept=True,\n",
       "          intercept_scaling=1, max_iter=100, multi_class='warn',\n",
       "          n_jobs=None, penalty='l2', random_state=None, solver='warn',\n",
       "          tol=0.0001, verbose=0, warm_start=False)"
      ]
     },
     "execution_count": 132,
     "metadata": {},
     "output_type": "execute_result"
    }
   ],
   "source": [
    "from sklearn.linear_model import LogisticRegression\n",
    "from sklearn import metrics\n",
    "X = X_train\n",
    "y = y_train['caso_internacao']\n",
    "logreg = LogisticRegression()\n",
    "logreg.fit(X, y)"
   ]
  },
  {
   "cell_type": "code",
   "execution_count": 133,
   "metadata": {
    "scrolled": true
   },
   "outputs": [
    {
     "name": "stdout",
     "output_type": "stream",
     "text": [
      "Accuracy of logistic regression classifier on test set: 0.92\n"
     ]
    }
   ],
   "source": [
    "y_pred = logreg.predict(X_test)\n",
    "print('Accuracy of logistic regression classifier on test set: {:.2f}'.format(logreg.score(X_test, y_test)))"
   ]
  },
  {
   "cell_type": "code",
   "execution_count": 134,
   "metadata": {},
   "outputs": [
    {
     "data": {
      "text/plain": [
       "array([[671,   8],\n",
       "       [ 50,  12]], dtype=int64)"
      ]
     },
     "execution_count": 134,
     "metadata": {},
     "output_type": "execute_result"
    }
   ],
   "source": [
    "from sklearn.metrics import confusion_matrix\n",
    "confusion_matrix = confusion_matrix(y_test, y_pred)\n",
    "confusion_matrix"
   ]
  },
  {
   "cell_type": "code",
   "execution_count": 135,
   "metadata": {},
   "outputs": [
    {
     "name": "stdout",
     "output_type": "stream",
     "text": [
      "              precision    recall  f1-score   support\n",
      "\n",
      "           0       0.93      0.99      0.96       679\n",
      "           1       0.60      0.19      0.29        62\n",
      "\n",
      "   micro avg       0.92      0.92      0.92       741\n",
      "   macro avg       0.77      0.59      0.63       741\n",
      "weighted avg       0.90      0.92      0.90       741\n",
      "\n"
     ]
    }
   ],
   "source": [
    "from sklearn.metrics import classification_report\n",
    "print(classification_report(y_test, y_pred))"
   ]
  },
  {
   "cell_type": "code",
   "execution_count": 136,
   "metadata": {},
   "outputs": [
    {
     "data": {
      "image/png": "[encoded data removed]",
      "text/plain": [
       "<Figure size 432x288 with 1 Axes>"
      ]
     },
     "metadata": {
      "needs_background": "light"
     },
     "output_type": "display_data"
    }
   ],
   "source": [
    "from sklearn.metrics import roc_auc_score\n",
    "from sklearn.metrics import roc_curve\n",
    "logit_roc_auc = roc_auc_score(y_test, logreg.predict(X_test))\n",
    "fpr, tpr, thresholds = roc_curve(y_test, logreg.predict_proba(X_test)[:,1])\n",
    "plt.figure()\n",
    "plt.plot(fpr, tpr, label='Logistic Regression (area = %0.2f)' % logit_roc_auc)\n",
    "plt.plot([0, 1], [0, 1],'r--')\n",
    "plt.xlim([0.0, 1.0])\n",
    "plt.ylim([0.0, 1.05])\n",
    "plt.xlabel('False Positive Rate')\n",
    "plt.ylabel('True Positive Rate')\n",
    "plt.title('Receiver operating characteristic')\n",
    "plt.legend(loc=\"lower right\")\n",
    "plt.savefig('Log_ROC')\n",
    "plt.show()"
   ]
  },
  {
   "cell_type": "code",
   "execution_count": 220,
   "metadata": {},
   "outputs": [
    {
     "data": {
      "text/plain": [
       "0    1599\n",
       "1    1536\n",
       "Name: caso_internacao, dtype: int64"
      ]
     },
     "execution_count": 220,
     "metadata": {},
     "output_type": "execute_result"
    }
   ],
   "source": [
    "# Teste with 30% of classe bad replicated\n",
    "\n",
    "data_train = pd.concat([X_train, y_train], axis=1)\n",
    "\n",
    "bads = data_train[data_train[\"caso_internacao\"] == 1]\n",
    "data_train = data_train.append(bads)\n",
    "data_train = data_train.append(bads)\n",
    "data_train = data_train.append(bads)\n",
    "data_train = data_train.append(bads)\n",
    "data_train = data_train.append(bads)\n",
    "data_train = data_train.append(bads)\n",
    "data_train = data_train.append(bads)\n",
    "data_train = data_train.append(bads)\n",
    "data_train = data_train.append(bads)\n",
    "data_train = data_train.append(bads)\n",
    "data_train = data_train.append(bads)\n",
    "\n",
    "\n",
    "\n",
    "data_train['caso_internacao'].value_counts()"
   ]
  },
  {
   "cell_type": "code",
   "execution_count": 221,
   "metadata": {},
   "outputs": [
    {
     "name": "stdout",
     "output_type": "stream",
     "text": [
      "Warning: Maximum number of iterations has been exceeded.\n",
      "         Current function value: 0.382240\n",
      "         Iterations: 35\n"
     ]
    },
    {
     "name": "stderr",
     "output_type": "stream",
     "text": [
      "C:\\Users\\bruno\\Anaconda3\\lib\\site-packages\\statsmodels\\base\\model.py:508: ConvergenceWarning: Maximum Likelihood optimization failed to converge. Check mle_retvals\n",
      "  \"Check mle_retvals\", ConvergenceWarning)\n"
     ]
    },
    {
     "data": {
      "text/html": [
       "<table class=\"simpletable\">\n",
       "<tr>\n",
       "        <td>Model:</td>              <td>Logit</td>      <td>Pseudo R-squared:</td>   <td>0.448</td>  \n",
       "</tr>\n",
       "<tr>\n",
       "  <td>Dependent Variable:</td>  <td>caso_internacao</td>       <td>AIC:</td>        <td>2476.6477</td>\n",
       "</tr>\n",
       "<tr>\n",
       "         <td>Date:</td>        <td>2019-06-30 23:17</td>       <td>BIC:</td>        <td>2718.6630</td>\n",
       "</tr>\n",
       "<tr>\n",
       "   <td>No. Observations:</td>        <td>3135</td>        <td>Log-Likelihood:</td>   <td>-1198.3</td> \n",
       "</tr>\n",
       "<tr>\n",
       "       <td>Df Model:</td>             <td>39</td>            <td>LL-Null:</td>       <td>-2172.4</td> \n",
       "</tr>\n",
       "<tr>\n",
       "     <td>Df Residuals:</td>          <td>3095</td>         <td>LLR p-value:</td>     <td>0.0000</td>  \n",
       "</tr>\n",
       "<tr>\n",
       "      <td>Converged:</td>           <td>0.0000</td>           <td>Scale:</td>        <td>1.0000</td>  \n",
       "</tr>\n",
       "<tr>\n",
       "    <td>No. Iterations:</td>        <td>35.0000</td>             <td></td>              <td></td>     \n",
       "</tr>\n",
       "</table>\n",
       "<table class=\"simpletable\">\n",
       "<tr>\n",
       "         <td></td>          <th>Coef.</th>                    <th>Std.Err.</th>                       <th>z</th>     <th>P>|z|</th>                    <th>[0.025</th>                                      <th>0.975]</th>                   \n",
       "</tr>\n",
       "<tr>\n",
       "  <th>notificao_dias</th>  <td>0.0151</td>                     <td>0.0050</td>                     <td>3.0397</td>  <td>0.0024</td>                    <td>0.0054</td>                                      <td>0.0248</td>                   \n",
       "</tr>\n",
       "<tr>\n",
       "  <th>idade</th>           <td>-0.0333</td>                    <td>0.0043</td>                     <td>-7.8004</td> <td>0.0000</td>                    <td>-0.0417</td>                                     <td>-0.0249</td>                  \n",
       "</tr>\n",
       "<tr>\n",
       "  <th>febre</th>           <td>-1.1472</td>                    <td>0.2487</td>                     <td>-4.6120</td> <td>0.0000</td>                    <td>-1.6348</td>                                     <td>-0.6597</td>                  \n",
       "</tr>\n",
       "<tr>\n",
       "  <th>mialgia</th>         <td>-0.5001</td>                    <td>0.1235</td>                     <td>-4.0480</td> <td>0.0001</td>                    <td>-0.7422</td>                                     <td>-0.2579</td>                  \n",
       "</tr>\n",
       "<tr>\n",
       "  <th>cefaleia</th>        <td>0.8488</td>                     <td>0.1169</td>                     <td>7.2611</td>  <td>0.0000</td>                    <td>0.6197</td>                                      <td>1.0779</td>                   \n",
       "</tr>\n",
       "<tr>\n",
       "  <th>exantema</th>        <td>-0.0017</td>                    <td>0.1258</td>                     <td>-0.0133</td> <td>0.9894</td>                    <td>-0.2482</td>                                     <td>0.2449</td>                   \n",
       "</tr>\n",
       "<tr>\n",
       "  <th>vomito</th>          <td>-0.9684</td>                    <td>0.1220</td>                     <td>-7.9380</td> <td>0.0000</td>                    <td>-1.2075</td>                                     <td>-0.7293</td>                  \n",
       "</tr>\n",
       "<tr>\n",
       "  <th>nausea</th>          <td>-0.8173</td>                    <td>0.1340</td>                     <td>-6.1013</td> <td>0.0000</td>                    <td>-1.0798</td>                                     <td>-0.5547</td>                  \n",
       "</tr>\n",
       "<tr>\n",
       "  <th>dor_costas</th>      <td>0.5124</td>                     <td>0.2184</td>                     <td>2.3462</td>  <td>0.0190</td>                    <td>0.0844</td>                                      <td>0.9404</td>                   \n",
       "</tr>\n",
       "<tr>\n",
       "  <th>conjutivite</th>     <td>-0.0739</td>                    <td>0.3759</td>                     <td>-0.1967</td> <td>0.8440</td>                    <td>-0.8106</td>                                     <td>0.6627</td>                   \n",
       "</tr>\n",
       "<tr>\n",
       "  <th>artrite</th>         <td>0.6738</td>                     <td>0.2891</td>                     <td>2.3305</td>  <td>0.0198</td>                    <td>0.1071</td>                                      <td>1.2405</td>                   \n",
       "</tr>\n",
       "<tr>\n",
       "  <th>artralgia</th>       <td>-0.6639</td>                    <td>0.1489</td>                     <td>-4.4601</td> <td>0.0000</td>                    <td>-0.9557</td>                                     <td>-0.3722</td>                  \n",
       "</tr>\n",
       "<tr>\n",
       "  <th>petequia_n</th>      <td>-2.2502</td>                    <td>0.2269</td>                     <td>-9.9164</td> <td>0.0000</td>                    <td>-2.6950</td>                                     <td>-1.8055</td>                  \n",
       "</tr>\n",
       "<tr>\n",
       "  <th>leucopenia</th>      <td>-2.4209</td>                    <td>0.1498</td>                    <td>-16.1559</td> <td>0.0000</td>                    <td>-2.7146</td>                                     <td>-2.1272</td>                  \n",
       "</tr>\n",
       "<tr>\n",
       "  <th>laco</th>            <td>2.6814</td>                     <td>0.6756</td>                     <td>3.9688</td>  <td>0.0001</td>                    <td>1.3572</td>                                      <td>4.0056</td>                   \n",
       "</tr>\n",
       "<tr>\n",
       "  <th>dor_retro</th>       <td>-0.4870</td>                    <td>0.1627</td>                     <td>-2.9934</td> <td>0.0028</td>                    <td>-0.8058</td>                                     <td>-0.1681</td>                  \n",
       "</tr>\n",
       "<tr>\n",
       "  <th>diabetes</th>        <td>1.0487</td>                     <td>0.5872</td>                     <td>1.7859</td>  <td>0.0741</td>                    <td>-0.1022</td>                                     <td>2.1995</td>                   \n",
       "</tr>\n",
       "<tr>\n",
       "  <th>hematolog</th>       <td>-6.5530</td>                    <td>1.2936</td>                     <td>-5.0658</td> <td>0.0000</td>                    <td>-9.0884</td>                                     <td>-4.0176</td>                  \n",
       "</tr>\n",
       "<tr>\n",
       "  <th>hepatopat</th>       <td>-2.6958</td>                    <td>0.9569</td>                     <td>-2.8172</td> <td>0.0048</td>                    <td>-4.5713</td>                                     <td>-0.8203</td>                  \n",
       "</tr>\n",
       "<tr>\n",
       "  <th>renal</th>           <td>-1.7850</td>                    <td>1.3615</td>                     <td>-1.3110</td> <td>0.1898</td>                    <td>-4.4535</td>                                     <td>0.8835</td>                   \n",
       "</tr>\n",
       "<tr>\n",
       "  <th>hipertensao</th>     <td>-0.2761</td>                    <td>0.4622</td>                     <td>-0.5975</td> <td>0.5502</td>                    <td>-1.1820</td>                                     <td>0.6297</td>                   \n",
       "</tr>\n",
       "<tr>\n",
       "  <th>acido_pept</th>      <td>0.4789</td>                     <td>1.2398</td>                     <td>0.3863</td>  <td>0.6993</td>                    <td>-1.9510</td>                                     <td>2.9089</td>                   \n",
       "</tr>\n",
       "<tr>\n",
       "  <th>auto_imune</th>      <td>12.9250</td>                    <td>2.0514</td>                     <td>6.3007</td>  <td>0.0000</td>                    <td>8.9044</td>                                      <td>16.9456</td>                  \n",
       "</tr>\n",
       "<tr>\n",
       "  <th>gestante_1</th>      <td>-1.2267</td>                    <td>0.7884</td>                     <td>-1.5559</td> <td>0.1197</td>                    <td>-2.7721</td>                                     <td>0.3186</td>                   \n",
       "</tr>\n",
       "<tr>\n",
       "  <th>gestante_2</th>     <td>-19.0017</td>                   <td>4598.2367</td>                   <td>-0.0041</td> <td>0.9967</td>                  <td>-9031.3800</td>                                   <td>8993.3766</td>                 \n",
       "</tr>\n",
       "<tr>\n",
       "  <th>gestante_3</th>      <td>1.0816</td>                     <td>0.5109</td>                     <td>2.1168</td>  <td>0.0343</td>                    <td>0.0801</td>                                      <td>2.0830</td>                   \n",
       "</tr>\n",
       "<tr>\n",
       "  <th>gestante_4</th>     <td>-169.9465</td> <td>33518383068792222341481384888798019584.0000</td>  <td>-0.0000</td> <td>1.0000</td> <td>-65694823634849887456177105202191532032.0000</td> <td>65694823634849887456177105202191532032.0000</td>\n",
       "</tr>\n",
       "<tr>\n",
       "  <th>escolaridade_0</th>  <td>-0.6798</td>                    <td>1.3492</td>                     <td>-0.5039</td> <td>0.6143</td>                    <td>-3.3241</td>                                     <td>1.9645</td>                   \n",
       "</tr>\n",
       "<tr>\n",
       "  <th>escolaridade_1</th>  <td>-0.0030</td>                    <td>0.4432</td>                     <td>-0.0068</td> <td>0.9946</td>                    <td>-0.8716</td>                                     <td>0.8657</td>                   \n",
       "</tr>\n",
       "<tr>\n",
       "  <th>escolaridade_2</th>  <td>1.1932</td>                     <td>0.7359</td>                     <td>1.6213</td>  <td>0.1049</td>                    <td>-0.2492</td>                                     <td>2.6356</td>                   \n",
       "</tr>\n",
       "<tr>\n",
       "  <th>escolaridade_3</th>  <td>2.9110</td>                     <td>0.4057</td>                     <td>7.1745</td>  <td>0.0000</td>                    <td>2.1158</td>                                      <td>3.7062</td>                   \n",
       "</tr>\n",
       "<tr>\n",
       "  <th>escolaridade_4</th>  <td>1.9334</td>                     <td>0.6391</td>                     <td>3.0253</td>  <td>0.0025</td>                    <td>0.6808</td>                                      <td>3.1860</td>                   \n",
       "</tr>\n",
       "<tr>\n",
       "  <th>escolaridade_5</th>  <td>1.2234</td>                     <td>0.4444</td>                     <td>2.7527</td>  <td>0.0059</td>                    <td>0.3523</td>                                      <td>2.0944</td>                   \n",
       "</tr>\n",
       "<tr>\n",
       "  <th>escolaridade_6</th>  <td>0.0153</td>                     <td>0.3354</td>                     <td>0.0457</td>  <td>0.9636</td>                    <td>-0.6420</td>                                     <td>0.6727</td>                   \n",
       "</tr>\n",
       "<tr>\n",
       "  <th>escolaridade_7</th>  <td>1.3884</td>                     <td>0.4480</td>                     <td>3.0990</td>  <td>0.0019</td>                    <td>0.5103</td>                                      <td>2.2665</td>                   \n",
       "</tr>\n",
       "<tr>\n",
       "  <th>escolaridade_8</th>  <td>-0.4773</td>                    <td>0.3890</td>                     <td>-1.2268</td> <td>0.2199</td>                    <td>-1.2397</td>                                     <td>0.2852</td>                   \n",
       "</tr>\n",
       "<tr>\n",
       "  <th>raca_1</th>          <td>1.7237</td>                     <td>0.2032</td>                     <td>8.4830</td>  <td>0.0000</td>                    <td>1.3255</td>                                      <td>2.1220</td>                   \n",
       "</tr>\n",
       "<tr>\n",
       "  <th>raca_2</th>          <td>3.2370</td>                     <td>0.4731</td>                     <td>6.8416</td>  <td>0.0000</td>                    <td>2.3097</td>                                      <td>4.1643</td>                   \n",
       "</tr>\n",
       "<tr>\n",
       "  <th>raca_4</th>          <td>2.2682</td>                     <td>0.1315</td>                     <td>17.2435</td> <td>0.0000</td>                    <td>2.0104</td>                                      <td>2.5260</td>                   \n",
       "</tr>\n",
       "<tr>\n",
       "  <th>sexo_F</th>          <td>-0.4082</td>                    <td>0.1104</td>                     <td>-3.6961</td> <td>0.0002</td>                    <td>-0.6247</td>                                     <td>-0.1917</td>                  \n",
       "</tr>\n",
       "</table>"
      ],
      "text/plain": [
       "<class 'statsmodels.iolib.summary2.Summary'>\n",
       "\"\"\"\n",
       "                                                                               Results: Logit\n",
       "=============================================================================================================================================================================\n",
       "Model:                                                   Logit                                                Pseudo R-squared:                                     0.448    \n",
       "Dependent Variable:                                      caso_internacao                                      AIC:                                                  2476.6477\n",
       "Date:                                                    2019-06-30 23:17                                     BIC:                                                  2718.6630\n",
       "No. Observations:                                        3135                                                 Log-Likelihood:                                       -1198.3  \n",
       "Df Model:                                                39                                                   LL-Null:                                              -2172.4  \n",
       "Df Residuals:                                            3095                                                 LLR p-value:                                          0.0000   \n",
       "Converged:                                               0.0000                                               Scale:                                                1.0000   \n",
       "No. Iterations:                                          35.0000                                                                                                             \n",
       "-----------------------------------------------------------------------------------------------------------------------------------------------------------------------------\n",
       "                 Coef.                     Std.Err.                     z     P>|z|                     [0.025                                       0.975]                  \n",
       "-----------------------------------------------------------------------------------------------------------------------------------------------------------------------------\n",
       "notificao_dias    0.0151                                      0.0050   3.0397 0.0024                                       0.0054                                      0.0248\n",
       "idade            -0.0333                                      0.0043  -7.8004 0.0000                                      -0.0417                                     -0.0249\n",
       "febre            -1.1472                                      0.2487  -4.6120 0.0000                                      -1.6348                                     -0.6597\n",
       "mialgia          -0.5001                                      0.1235  -4.0480 0.0001                                      -0.7422                                     -0.2579\n",
       "cefaleia          0.8488                                      0.1169   7.2611 0.0000                                       0.6197                                      1.0779\n",
       "exantema         -0.0017                                      0.1258  -0.0133 0.9894                                      -0.2482                                      0.2449\n",
       "vomito           -0.9684                                      0.1220  -7.9380 0.0000                                      -1.2075                                     -0.7293\n",
       "nausea           -0.8173                                      0.1340  -6.1013 0.0000                                      -1.0798                                     -0.5547\n",
       "dor_costas        0.5124                                      0.2184   2.3462 0.0190                                       0.0844                                      0.9404\n",
       "conjutivite      -0.0739                                      0.3759  -0.1967 0.8440                                      -0.8106                                      0.6627\n",
       "artrite           0.6738                                      0.2891   2.3305 0.0198                                       0.1071                                      1.2405\n",
       "artralgia        -0.6639                                      0.1489  -4.4601 0.0000                                      -0.9557                                     -0.3722\n",
       "petequia_n       -2.2502                                      0.2269  -9.9164 0.0000                                      -2.6950                                     -1.8055\n",
       "leucopenia       -2.4209                                      0.1498 -16.1559 0.0000                                      -2.7146                                     -2.1272\n",
       "laco              2.6814                                      0.6756   3.9688 0.0001                                       1.3572                                      4.0056\n",
       "dor_retro        -0.4870                                      0.1627  -2.9934 0.0028                                      -0.8058                                     -0.1681\n",
       "diabetes          1.0487                                      0.5872   1.7859 0.0741                                      -0.1022                                      2.1995\n",
       "hematolog        -6.5530                                      1.2936  -5.0658 0.0000                                      -9.0884                                     -4.0176\n",
       "hepatopat        -2.6958                                      0.9569  -2.8172 0.0048                                      -4.5713                                     -0.8203\n",
       "renal            -1.7850                                      1.3615  -1.3110 0.1898                                      -4.4535                                      0.8835\n",
       "hipertensao      -0.2761                                      0.4622  -0.5975 0.5502                                      -1.1820                                      0.6297\n",
       "acido_pept        0.4789                                      1.2398   0.3863 0.6993                                      -1.9510                                      2.9089\n",
       "auto_imune       12.9250                                      2.0514   6.3007 0.0000                                       8.9044                                     16.9456\n",
       "gestante_1       -1.2267                                      0.7884  -1.5559 0.1197                                      -2.7721                                      0.3186\n",
       "gestante_2      -19.0017                                   4598.2367  -0.0041 0.9967                                   -9031.3800                                   8993.3766\n",
       "gestante_3        1.0816                                      0.5109   2.1168 0.0343                                       0.0801                                      2.0830\n",
       "gestante_4     -169.9465 33518383068792222341481384888798019584.0000  -0.0000 1.0000 -65694823634849887456177105202191532032.0000 65694823634849887456177105202191532032.0000\n",
       "escolaridade_0   -0.6798                                      1.3492  -0.5039 0.6143                                      -3.3241                                      1.9645\n",
       "escolaridade_1   -0.0030                                      0.4432  -0.0068 0.9946                                      -0.8716                                      0.8657\n",
       "escolaridade_2    1.1932                                      0.7359   1.6213 0.1049                                      -0.2492                                      2.6356\n",
       "escolaridade_3    2.9110                                      0.4057   7.1745 0.0000                                       2.1158                                      3.7062\n",
       "escolaridade_4    1.9334                                      0.6391   3.0253 0.0025                                       0.6808                                      3.1860\n",
       "escolaridade_5    1.2234                                      0.4444   2.7527 0.0059                                       0.3523                                      2.0944\n",
       "escolaridade_6    0.0153                                      0.3354   0.0457 0.9636                                      -0.6420                                      0.6727\n",
       "escolaridade_7    1.3884                                      0.4480   3.0990 0.0019                                       0.5103                                      2.2665\n",
       "escolaridade_8   -0.4773                                      0.3890  -1.2268 0.2199                                      -1.2397                                      0.2852\n",
       "raca_1            1.7237                                      0.2032   8.4830 0.0000                                       1.3255                                      2.1220\n",
       "raca_2            3.2370                                      0.4731   6.8416 0.0000                                       2.3097                                      4.1643\n",
       "raca_4            2.2682                                      0.1315  17.2435 0.0000                                       2.0104                                      2.5260\n",
       "sexo_F           -0.4082                                      0.1104  -3.6961 0.0002                                      -0.6247                                     -0.1917\n",
       "=============================================================================================================================================================================\n",
       "\n",
       "\"\"\""
      ]
     },
     "execution_count": 221,
     "metadata": {},
     "output_type": "execute_result"
    }
   ],
   "source": [
    "X = data_train.loc[:, data_train.columns != 'caso_internacao']\n",
    "y = data_train.loc[:, data_train.columns == 'caso_internacao']\n",
    "\n",
    "import statsmodels.api as sm\n",
    "logit_model=sm.Logit(y['caso_internacao'],X)\n",
    "result=logit_model.fit()\n",
    "result.summary2()"
   ]
  },
  {
   "cell_type": "code",
   "execution_count": 222,
   "metadata": {},
   "outputs": [
    {
     "name": "stderr",
     "output_type": "stream",
     "text": [
      "C:\\Users\\bruno\\Anaconda3\\lib\\site-packages\\sklearn\\linear_model\\logistic.py:433: FutureWarning: Default solver will be changed to 'lbfgs' in 0.22. Specify a solver to silence this warning.\n",
      "  FutureWarning)\n"
     ]
    },
    {
     "data": {
      "text/plain": [
       "LogisticRegression(C=1.0, class_weight=None, dual=False, fit_intercept=True,\n",
       "          intercept_scaling=1, max_iter=100, multi_class='warn',\n",
       "          n_jobs=None, penalty='l2', random_state=None, solver='warn',\n",
       "          tol=0.0001, verbose=0, warm_start=False)"
      ]
     },
     "execution_count": 222,
     "metadata": {},
     "output_type": "execute_result"
    }
   ],
   "source": [
    "from sklearn.linear_model import LogisticRegression\n",
    "from sklearn import metrics\n",
    "y = y['caso_internacao']\n",
    "logreg = LogisticRegression()\n",
    "logreg.fit(X, y)"
   ]
  },
  {
   "cell_type": "code",
   "execution_count": 223,
   "metadata": {},
   "outputs": [
    {
     "name": "stdout",
     "output_type": "stream",
     "text": [
      "Accuracy of logistic regression classifier on test set: 0.76\n"
     ]
    }
   ],
   "source": [
    "y_pred = logreg.predict(X_test)\n",
    "print('Accuracy of logistic regression classifier on test set: {:.2f}'.format(logreg.score(X_test, y_test)))"
   ]
  },
  {
   "cell_type": "code",
   "execution_count": 224,
   "metadata": {},
   "outputs": [
    {
     "data": {
      "text/plain": [
       "array([[518, 161],\n",
       "       [ 19,  43]], dtype=int64)"
      ]
     },
     "execution_count": 224,
     "metadata": {},
     "output_type": "execute_result"
    }
   ],
   "source": [
    "from sklearn.metrics import confusion_matrix\n",
    "confusion_matrix = confusion_matrix(y_test, y_pred)\n",
    "confusion_matrix"
   ]
  },
  {
   "cell_type": "code",
   "execution_count": 225,
   "metadata": {},
   "outputs": [
    {
     "name": "stdout",
     "output_type": "stream",
     "text": [
      "              precision    recall  f1-score   support\n",
      "\n",
      "           0       0.96      0.76      0.85       679\n",
      "           1       0.21      0.69      0.32        62\n",
      "\n",
      "   micro avg       0.76      0.76      0.76       741\n",
      "   macro avg       0.59      0.73      0.59       741\n",
      "weighted avg       0.90      0.76      0.81       741\n",
      "\n"
     ]
    }
   ],
   "source": [
    "from sklearn.metrics import classification_report\n",
    "print(classification_report(y_test, y_pred))"
   ]
  },
  {
   "cell_type": "code",
   "execution_count": 226,
   "metadata": {},
   "outputs": [
    {
     "data": {
      "image/png": "[encoded data removed]",
      "text/plain": [
       "<Figure size 432x288 with 1 Axes>"
      ]
     },
     "metadata": {
      "needs_background": "light"
     },
     "output_type": "display_data"
    }
   ],
   "source": [
    "from sklearn.metrics import roc_auc_score\n",
    "from sklearn.metrics import roc_curve\n",
    "logit_roc_auc = roc_auc_score(y_test, logreg.predict(X_test))\n",
    "fpr, tpr, thresholds = roc_curve(y_test, logreg.predict_proba(X_test)[:,1])\n",
    "plt.figure()\n",
    "plt.plot(fpr, tpr, label='Logistic Regression (area = %0.2f)' % logit_roc_auc)\n",
    "plt.plot([0, 1], [0, 1],'r--')\n",
    "plt.xlim([0.0, 1.0])\n",
    "plt.ylim([0.0, 1.05])\n",
    "plt.xlabel('False Positive Rate')\n",
    "plt.ylabel('True Positive Rate')\n",
    "plt.title('Receiver operating characteristic')\n",
    "plt.legend(loc=\"lower right\")\n",
    "plt.savefig('Log_ROC')\n",
    "plt.show()"
   ]
  },
  {
   "cell_type": "code",
   "execution_count": 176,
   "metadata": {},
   "outputs": [],
   "source": []
  },
  {
   "cell_type": "code",
   "execution_count": 249,
   "metadata": {},
   "outputs": [
    {
     "data": {
      "text/html": [
       "<div>\n",
       "<style scoped>\n",
       "    .dataframe tbody tr th:only-of-type {\n",
       "        vertical-align: middle;\n",
       "    }\n",
       "\n",
       "    .dataframe tbody tr th {\n",
       "        vertical-align: top;\n",
       "    }\n",
       "\n",
       "    .dataframe thead th {\n",
       "        text-align: right;\n",
       "    }\n",
       "</style>\n",
       "<table border=\"1\" class=\"dataframe\">\n",
       "  <thead>\n",
       "    <tr style=\"text-align: right;\">\n",
       "      <th></th>\n",
       "      <th>notificao_dias</th>\n",
       "      <th>idade</th>\n",
       "      <th>caso_internacao</th>\n",
       "      <th>febre</th>\n",
       "      <th>mialgia</th>\n",
       "      <th>cefaleia</th>\n",
       "      <th>exantema</th>\n",
       "      <th>vomito</th>\n",
       "      <th>nausea</th>\n",
       "      <th>dor_costas</th>\n",
       "      <th>...</th>\n",
       "      <th>escolaridade_3</th>\n",
       "      <th>escolaridade_4</th>\n",
       "      <th>escolaridade_5</th>\n",
       "      <th>escolaridade_6</th>\n",
       "      <th>escolaridade_7</th>\n",
       "      <th>escolaridade_8</th>\n",
       "      <th>raca_1</th>\n",
       "      <th>raca_2</th>\n",
       "      <th>raca_4</th>\n",
       "      <th>sexo_F</th>\n",
       "    </tr>\n",
       "  </thead>\n",
       "  <tbody>\n",
       "    <tr>\n",
       "      <th>0</th>\n",
       "      <td>5</td>\n",
       "      <td>37</td>\n",
       "      <td>0</td>\n",
       "      <td>2</td>\n",
       "      <td>1</td>\n",
       "      <td>1</td>\n",
       "      <td>2</td>\n",
       "      <td>2</td>\n",
       "      <td>2</td>\n",
       "      <td>2</td>\n",
       "      <td>...</td>\n",
       "      <td>0</td>\n",
       "      <td>0</td>\n",
       "      <td>0</td>\n",
       "      <td>0</td>\n",
       "      <td>0</td>\n",
       "      <td>0</td>\n",
       "      <td>1</td>\n",
       "      <td>0</td>\n",
       "      <td>0</td>\n",
       "      <td>1</td>\n",
       "    </tr>\n",
       "    <tr>\n",
       "      <th>1</th>\n",
       "      <td>26</td>\n",
       "      <td>1</td>\n",
       "      <td>1</td>\n",
       "      <td>1</td>\n",
       "      <td>2</td>\n",
       "      <td>2</td>\n",
       "      <td>1</td>\n",
       "      <td>2</td>\n",
       "      <td>2</td>\n",
       "      <td>2</td>\n",
       "      <td>...</td>\n",
       "      <td>0</td>\n",
       "      <td>0</td>\n",
       "      <td>0</td>\n",
       "      <td>0</td>\n",
       "      <td>0</td>\n",
       "      <td>0</td>\n",
       "      <td>1</td>\n",
       "      <td>0</td>\n",
       "      <td>0</td>\n",
       "      <td>0</td>\n",
       "    </tr>\n",
       "    <tr>\n",
       "      <th>2</th>\n",
       "      <td>1</td>\n",
       "      <td>14</td>\n",
       "      <td>0</td>\n",
       "      <td>1</td>\n",
       "      <td>1</td>\n",
       "      <td>1</td>\n",
       "      <td>2</td>\n",
       "      <td>2</td>\n",
       "      <td>2</td>\n",
       "      <td>2</td>\n",
       "      <td>...</td>\n",
       "      <td>0</td>\n",
       "      <td>0</td>\n",
       "      <td>0</td>\n",
       "      <td>0</td>\n",
       "      <td>0</td>\n",
       "      <td>0</td>\n",
       "      <td>0</td>\n",
       "      <td>0</td>\n",
       "      <td>1</td>\n",
       "      <td>0</td>\n",
       "    </tr>\n",
       "    <tr>\n",
       "      <th>3</th>\n",
       "      <td>89</td>\n",
       "      <td>41</td>\n",
       "      <td>0</td>\n",
       "      <td>2</td>\n",
       "      <td>2</td>\n",
       "      <td>1</td>\n",
       "      <td>1</td>\n",
       "      <td>2</td>\n",
       "      <td>2</td>\n",
       "      <td>2</td>\n",
       "      <td>...</td>\n",
       "      <td>0</td>\n",
       "      <td>0</td>\n",
       "      <td>0</td>\n",
       "      <td>0</td>\n",
       "      <td>0</td>\n",
       "      <td>0</td>\n",
       "      <td>0</td>\n",
       "      <td>0</td>\n",
       "      <td>0</td>\n",
       "      <td>1</td>\n",
       "    </tr>\n",
       "    <tr>\n",
       "      <th>4</th>\n",
       "      <td>3</td>\n",
       "      <td>12</td>\n",
       "      <td>0</td>\n",
       "      <td>1</td>\n",
       "      <td>2</td>\n",
       "      <td>1</td>\n",
       "      <td>2</td>\n",
       "      <td>1</td>\n",
       "      <td>2</td>\n",
       "      <td>2</td>\n",
       "      <td>...</td>\n",
       "      <td>0</td>\n",
       "      <td>0</td>\n",
       "      <td>0</td>\n",
       "      <td>0</td>\n",
       "      <td>0</td>\n",
       "      <td>0</td>\n",
       "      <td>0</td>\n",
       "      <td>0</td>\n",
       "      <td>1</td>\n",
       "      <td>0</td>\n",
       "    </tr>\n",
       "  </tbody>\n",
       "</table>\n",
       "<p>5 rows × 41 columns</p>\n",
       "</div>"
      ],
      "text/plain": [
       "   notificao_dias  idade  caso_internacao  febre  mialgia  cefaleia  exantema  \\\n",
       "0               5     37                0      2        1         1         2   \n",
       "1              26      1                1      1        2         2         1   \n",
       "2               1     14                0      1        1         1         2   \n",
       "3              89     41                0      2        2         1         1   \n",
       "4               3     12                0      1        2         1         2   \n",
       "\n",
       "   vomito  nausea  dor_costas  ...  escolaridade_3  escolaridade_4  \\\n",
       "0       2       2           2  ...               0               0   \n",
       "1       2       2           2  ...               0               0   \n",
       "2       2       2           2  ...               0               0   \n",
       "3       2       2           2  ...               0               0   \n",
       "4       1       2           2  ...               0               0   \n",
       "\n",
       "   escolaridade_5  escolaridade_6  escolaridade_7  escolaridade_8  raca_1  \\\n",
       "0               0               0               0               0       1   \n",
       "1               0               0               0               0       1   \n",
       "2               0               0               0               0       0   \n",
       "3               0               0               0               0       0   \n",
       "4               0               0               0               0       0   \n",
       "\n",
       "   raca_2  raca_4  sexo_F  \n",
       "0       0       0       1  \n",
       "1       0       0       0  \n",
       "2       0       1       0  \n",
       "3       0       0       1  \n",
       "4       0       1       0  \n",
       "\n",
       "[5 rows x 41 columns]"
      ]
     },
     "execution_count": 249,
     "metadata": {},
     "output_type": "execute_result"
    }
   ],
   "source": [
    "data_dummies.head()"
   ]
  },
  {
   "cell_type": "code",
   "execution_count": 254,
   "metadata": {},
   "outputs": [
    {
     "name": "stdout",
     "output_type": "stream",
     "text": [
      "length of oversampled data is  3198\n",
      "Number of no subscription in oversampled data 1599\n",
      "Number of subscription 1599\n",
      "Proportion of no subscription data in oversampled data is  0.5\n",
      "Proportion of subscription data in oversampled data is  0.5\n"
     ]
    },
    {
     "name": "stderr",
     "output_type": "stream",
     "text": [
      "C:\\Users\\bruno\\Anaconda3\\lib\\site-packages\\sklearn\\utils\\validation.py:761: DataConversionWarning: A column-vector y was passed when a 1d array was expected. Please change the shape of y to (n_samples, ), for example using ravel().\n",
      "  y = column_or_1d(y, warn=True)\n"
     ]
    }
   ],
   "source": [
    "X = data_dummies.loc[:, data_dummies.columns != 'caso_internacao']\n",
    "y = data_dummies.loc[:, data_dummies.columns == 'caso_internacao']\n",
    "\n",
    "from imblearn.over_sampling import SMOTE\n",
    "os = SMOTE(random_state=0)\n",
    "X_train, X_test, y_train, y_test = train_test_split(X, y, test_size=0.3, random_state=0)\n",
    "columns = X_train.columns\n",
    "os_data_X,os_data_y=os.fit_sample(X_train, y_train)\n",
    "os_data_X = pd.DataFrame(data=os_data_X,columns=columns )\n",
    "os_data_y= pd.DataFrame(data=os_data_y,columns=['caso_internacao'])\n",
    "# we can Check the numbers of our data\n",
    "print(\"length of oversampled data is \",len(os_data_X))\n",
    "print(\"Number of no subscription in oversampled data\",len(os_data_y[os_data_y['caso_internacao']==0]))\n",
    "print(\"Number of subscription\",len(os_data_y[os_data_y['caso_internacao']==1]))\n",
    "print(\"Proportion of no subscription data in oversampled data is \",len(os_data_y[os_data_y['caso_internacao']==0])/len(os_data_X))\n",
    "print(\"Proportion of subscription data in oversampled data is \",len(os_data_y[os_data_y['caso_internacao']==1])/len(os_data_X))"
   ]
  },
  {
   "cell_type": "code",
   "execution_count": 256,
   "metadata": {},
   "outputs": [
    {
     "name": "stdout",
     "output_type": "stream",
     "text": [
      "Warning: Maximum number of iterations has been exceeded.\n",
      "         Current function value: 0.271599\n",
      "         Iterations: 35\n",
      "                             Results: Logit\n",
      "=========================================================================\n",
      "Model:                 Logit               Pseudo R-squared:    0.608    \n",
      "Dependent Variable:    caso_internacao     AIC:                 1817.1488\n",
      "Date:                  2019-06-30 23:35    BIC:                 2059.9601\n",
      "No. Observations:      3198                Log-Likelihood:      -868.57  \n",
      "Df Model:              39                  LL-Null:             -2216.7  \n",
      "Df Residuals:          3158                LLR p-value:         0.0000   \n",
      "Converged:             0.0000              Scale:               1.0000   \n",
      "No. Iterations:        35.0000                                           \n",
      "-------------------------------------------------------------------------\n",
      "                Coef.    Std.Err.     z     P>|z|     [0.025     0.975]  \n",
      "-------------------------------------------------------------------------\n",
      "notificao_dias   0.0117     0.0067   1.7415 0.0816     -0.0015     0.0248\n",
      "idade           -0.0369     0.0055  -6.7639 0.0000     -0.0476    -0.0262\n",
      "febre           -1.8248     0.5245  -3.4793 0.0005     -2.8527    -0.7969\n",
      "mialgia         -1.3991     0.1547  -9.0452 0.0000     -1.7022    -1.0959\n",
      "cefaleia         0.1492     0.1418   1.0515 0.2930     -0.1289     0.4272\n",
      "exantema        -0.8341     0.1382  -6.0344 0.0000     -1.1050    -0.5632\n",
      "vomito          -1.5796     0.1416 -11.1538 0.0000     -1.8572    -1.3020\n",
      "nausea          -1.3780     0.1449  -9.5110 0.0000     -1.6619    -1.0940\n",
      "dor_costas       0.0624     0.2350   0.2656 0.7905     -0.3982     0.5231\n",
      "conjutivite     -1.6942     0.3514  -4.8207 0.0000     -2.3829    -1.0054\n",
      "artrite          0.0072     0.2800   0.0256 0.9796     -0.5415     0.5559\n",
      "artralgia       -0.7356     0.1687  -4.3601 0.0000     -1.0663    -0.4050\n",
      "petequia_n      -2.0368     0.2349  -8.6691 0.0000     -2.4973    -1.5763\n",
      "leucopenia      -2.4670     0.1580 -15.6130 0.0000     -2.7767    -2.1573\n",
      "laco             0.7923     0.6058   1.3078 0.1909     -0.3951     1.9796\n",
      "dor_retro       -0.9022     0.1797  -5.0207 0.0000     -1.2544    -0.5500\n",
      "diabetes         0.4221     0.5714   0.7388 0.4600     -0.6977     1.5420\n",
      "hematolog       -4.0537     1.0759  -3.7677 0.0002     -6.1624    -1.9449\n",
      "hepatopat       -1.8606     0.9027  -2.0612 0.0393     -3.6299    -0.0913\n",
      "renal           -1.3412     1.4285  -0.9389 0.3478     -4.1410     1.4586\n",
      "hipertensao     -1.8488     0.3775  -4.8968 0.0000     -2.5887    -1.1088\n",
      "acido_pept       0.2375     1.4351   0.1655 0.8685     -2.5752     3.0502\n",
      "auto_imune      19.6246     2.2056   8.8975 0.0000     15.3016    23.9475\n",
      "gestante_1      -3.5187     1.5135  -2.3249 0.0201     -6.4850    -0.5523\n",
      "gestante_2     -21.1830 13385.3361  -0.0016 0.9987 -26255.9597 26213.5938\n",
      "gestante_3      -1.1410     1.3554  -0.8418 0.3999     -3.7975     1.5155\n",
      "gestante_4     -16.0478  5491.8659  -0.0029 0.9977 -10779.9072 10747.8116\n",
      "escolaridade_0  -1.4119     2.6310  -0.5366 0.5915     -6.5686     3.7448\n",
      "escolaridade_1  -1.2997     0.7045  -1.8450 0.0650     -2.6804     0.0810\n",
      "escolaridade_2   0.2506     1.0743   0.2333 0.8155     -1.8550     2.3563\n",
      "escolaridade_3   0.9758     0.6848   1.4250 0.1542     -0.3663     2.3180\n",
      "escolaridade_4  -0.5831     1.3579  -0.4294 0.6677     -3.2446     2.0784\n",
      "escolaridade_5  -0.9381     1.1622  -0.8072 0.4196     -3.2159     1.3397\n",
      "escolaridade_6  -1.5649     0.6729  -2.3257 0.0200     -2.8836    -0.2461\n",
      "escolaridade_7   1.0416     0.9151   1.1383 0.2550     -0.7519     2.8351\n",
      "escolaridade_8  -1.9622     0.7538  -2.6032 0.0092     -3.4396    -0.4848\n",
      "raca_1          -0.2257     0.3061  -0.7372 0.4610     -0.8256     0.3743\n",
      "raca_2           1.3448     0.9369   1.4354 0.1512     -0.4915     3.1810\n",
      "raca_4           1.5945     0.1524  10.4631 0.0000      1.2958     1.8932\n",
      "sexo_F          -1.0774     0.1373  -7.8487 0.0000     -1.3465    -0.8084\n",
      "=========================================================================\n",
      "\n"
     ]
    },
    {
     "name": "stderr",
     "output_type": "stream",
     "text": [
      "C:\\Users\\bruno\\Anaconda3\\lib\\site-packages\\statsmodels\\base\\model.py:508: ConvergenceWarning: Maximum Likelihood optimization failed to converge. Check mle_retvals\n",
      "  \"Check mle_retvals\", ConvergenceWarning)\n"
     ]
    }
   ],
   "source": [
    "import statsmodels.api as sm\n",
    "\n",
    "X=os_data_X\n",
    "y=os_data_y['caso_internacao']\n",
    "\n",
    "logit_model=sm.Logit(y,X)\n",
    "result=logit_model.fit()\n",
    "print(result.summary2())"
   ]
  },
  {
   "cell_type": "code",
   "execution_count": 257,
   "metadata": {},
   "outputs": [
    {
     "name": "stderr",
     "output_type": "stream",
     "text": [
      "C:\\Users\\bruno\\Anaconda3\\lib\\site-packages\\sklearn\\linear_model\\logistic.py:433: FutureWarning: Default solver will be changed to 'lbfgs' in 0.22. Specify a solver to silence this warning.\n",
      "  FutureWarning)\n"
     ]
    },
    {
     "data": {
      "text/plain": [
       "LogisticRegression(C=1.0, class_weight=None, dual=False, fit_intercept=True,\n",
       "          intercept_scaling=1, max_iter=100, multi_class='warn',\n",
       "          n_jobs=None, penalty='l2', random_state=None, solver='warn',\n",
       "          tol=0.0001, verbose=0, warm_start=False)"
      ]
     },
     "execution_count": 257,
     "metadata": {},
     "output_type": "execute_result"
    }
   ],
   "source": [
    "from sklearn.linear_model import LogisticRegression\n",
    "from sklearn import metrics\n",
    "X_train, X_test, y_train, y_test = train_test_split(X, y, test_size=0.3, random_state=0)\n",
    "logreg = LogisticRegression()\n",
    "logreg.fit(X_train, y_train)"
   ]
  },
  {
   "cell_type": "code",
   "execution_count": 258,
   "metadata": {},
   "outputs": [
    {
     "name": "stdout",
     "output_type": "stream",
     "text": [
      "Accuracy of logistic regression classifier on test set: 0.89\n"
     ]
    }
   ],
   "source": [
    "y_pred = logreg.predict(X_test)\n",
    "print('Accuracy of logistic regression classifier on test set: {:.2f}'.format(logreg.score(X_test, y_test)))"
   ]
  },
  {
   "cell_type": "code",
   "execution_count": 259,
   "metadata": {},
   "outputs": [
    {
     "data": {
      "text/plain": [
       "array([[452,  53],\n",
       "       [ 56, 399]], dtype=int64)"
      ]
     },
     "execution_count": 259,
     "metadata": {},
     "output_type": "execute_result"
    }
   ],
   "source": [
    "from sklearn.metrics import confusion_matrix\n",
    "confusion_matrix = confusion_matrix(y_test, y_pred)\n",
    "confusion_matrix"
   ]
  },
  {
   "cell_type": "code",
   "execution_count": 260,
   "metadata": {},
   "outputs": [
    {
     "name": "stdout",
     "output_type": "stream",
     "text": [
      "              precision    recall  f1-score   support\n",
      "\n",
      "           0       0.89      0.90      0.89       505\n",
      "           1       0.88      0.88      0.88       455\n",
      "\n",
      "   micro avg       0.89      0.89      0.89       960\n",
      "   macro avg       0.89      0.89      0.89       960\n",
      "weighted avg       0.89      0.89      0.89       960\n",
      "\n"
     ]
    }
   ],
   "source": [
    "from sklearn.metrics import classification_report\n",
    "print(classification_report(y_test, y_pred))"
   ]
  },
  {
   "cell_type": "code",
   "execution_count": 261,
   "metadata": {},
   "outputs": [
    {
     "data": {
      "image/png": "[encoded data removed]",
      "text/plain": [
       "<Figure size 432x288 with 1 Axes>"
      ]
     },
     "metadata": {
      "needs_background": "light"
     },
     "output_type": "display_data"
    }
   ],
   "source": [
    "from sklearn.metrics import roc_auc_score\n",
    "from sklearn.metrics import roc_curve\n",
    "logit_roc_auc = roc_auc_score(y_test, logreg.predict(X_test))\n",
    "fpr, tpr, thresholds = roc_curve(y_test, logreg.predict_proba(X_test)[:,1])\n",
    "plt.figure()\n",
    "plt.plot(fpr, tpr, label='Logistic Regression (area = %0.2f)' % logit_roc_auc)\n",
    "plt.plot([0, 1], [0, 1],'r--')\n",
    "plt.xlim([0.0, 1.0])\n",
    "plt.ylim([0.0, 1.05])\n",
    "plt.xlabel('False Positive Rate')\n",
    "plt.ylabel('True Positive Rate')\n",
    "plt.title('Receiver operating characteristic')\n",
    "plt.legend(loc=\"lower right\")\n",
    "plt.savefig('Log_ROC')\n",
    "plt.show()"
   ]
  },
  {
   "cell_type": "code",
   "execution_count": null,
   "metadata": {},
   "outputs": [],
   "source": []
  },
  {
   "cell_type": "code",
   "execution_count": null,
   "metadata": {},
   "outputs": [],
   "source": []
  }
 ],
 "metadata": {
  "kernelspec": {
   "display_name": "Python 3",
   "language": "python",
   "name": "python3"
  },
  "language_info": {
   "codemirror_mode": {
    "name": "ipython",
    "version": 3
   },
   "file_extension": ".py",
   "mimetype": "text/x-python",
   "name": "python",
   "nbconvert_exporter": "python",
   "pygments_lexer": "ipython3",
   "version": "3.7.3"
  }
 },
 "nbformat": 4,
 "nbformat_minor": 2
}
